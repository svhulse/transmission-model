{
 "cells": [
  {
   "cell_type": "code",
   "execution_count": 1,
   "metadata": {},
   "outputs": [],
   "source": [
    "import numpy as np\n",
    "import pickle as pkl"
   ]
  },
  {
   "cell_type": "code",
   "execution_count": 12,
   "metadata": {},
   "outputs": [],
   "source": [
    "def unpack_raster(models):\n",
    "\t'''\n",
    "\tTake raw simulation outputs and create rasters of equilibrum dynamics,\n",
    "\tequilibrium general resistance and pathogen proportions.\n",
    "\n",
    "\tArgs:\n",
    "\t\traster: list of outputs from simulation runs\t\n",
    "\n",
    "\tReturns:\n",
    "\t\teq: Equilibrium dynamics classifications\n",
    "\t\tq_map: Equilibrium levels of quantitative resistance\n",
    "\t\tinf_ratio: Proportion of infected hosts\n",
    "\t\ty_ratio: Equilibrium proportion of endemic pathogen\n",
    "\t\th_ratio: Equilibrium proportion of susceptible and resistant genotypes\n",
    "\t'''\n",
    "\n",
    "\tmat_vals = np.zeros(len(models))\n",
    "\tbias_vals = np.zeros(len(models))\n",
    "\n",
    "\tfor i, model in enumerate(models):\n",
    "\t\tmat_vals[i] = model.mat\n",
    "\t\tbias_vals[i] = model.adult_bias\n",
    "\n",
    "\t#Get parameter values\n",
    "\tx_vals = np.sort(list(set(mat_vals)))\n",
    "\ty_vals = np.sort(list(set(bias_vals)))\n",
    "\n",
    "\t#Get raster dimensions\n",
    "\tn_x = len(x_vals)\n",
    "\tn_y = len(y_vals)\n",
    "\t\n",
    "\tparam_map = np.zeros((n_x, n_y))\n",
    "\tvar_1_vals = np.zeros((n_x, n_y))\n",
    "\tvar_2_vals = np.zeros((n_x, n_y))\n",
    "\n",
    "\tfor i, model in enumerate(models):\n",
    "\t\tx_ind = np.where(x_vals == model.mat)\n",
    "\t\ty_ind = np.where(y_vals == model.adult_bias)\n",
    "\n",
    "\t\tparam_map[x_ind, y_ind] = i\n",
    "\t\tvar_1_vals[x_ind, y_ind]\n",
    "\n",
    "\treturn param_map, x_vals, y_vals"
   ]
  },
  {
   "cell_type": "code",
   "execution_count": 3,
   "metadata": {},
   "outputs": [],
   "source": [
    "coevol_path = 'coevol.p'\n",
    "host_path = 'host.p'\n",
    "path_path = 'path.p'\n",
    "\n",
    "with open(coevol_path, 'rb') as f:\n",
    "    models_coevol, results_coevol = pkl.load(f)\n",
    "\n",
    "with open(host_path, 'rb') as f:\n",
    "    models_host, results_host = pkl.load(f)\n",
    "\n",
    "with open(path_path, 'rb') as f:\n",
    "    models_path, results_path = pkl.load(f)"
   ]
  },
  {
   "cell_type": "code",
   "execution_count": 22,
   "metadata": {},
   "outputs": [],
   "source": [
    "def bifrucation(models, data):\n",
    "\t'''\n",
    "\tTake raw simulation outputs and create rasters of equilibrum dynamics,\n",
    "\tequilibrium general resistance and pathogen proportions.\n",
    "\n",
    "\tArgs:\n",
    "\t\traster: list of outputs from simulation runs\t\n",
    "\n",
    "\tReturns:\n",
    "\t\teq: Equilibrium dynamics classifications\n",
    "\t\tq_map: Equilibrium levels of quantitative resistance\n",
    "\t\tinf_ratio: Proportion of infected hosts\n",
    "\t\ty_ratio: Equilibrium proportion of endemic pathogen\n",
    "\t\th_ratio: Equilibrium proportion of susceptible and resistant genotypes\n",
    "\t'''\n",
    "\n",
    "\tmat_vals = np.zeros(len(models))\n",
    "\tbias_vals = np.zeros(len(models))\n",
    "\n",
    "\tfor i, model in enumerate(models):\n",
    "\t\tmat_vals[i] = model.mat\n",
    "\t\tbias_vals[i] = model.adult_bias\n",
    "\n",
    "\t#Get parameter values\n",
    "\tx_vals = np.sort(list(set(mat_vals)))\n",
    "\ty_vals = np.sort(list(set(bias_vals)))\n",
    "\tt_evol = 100\n",
    "\n",
    "\t#Get raster dimensions\n",
    "\tn_x = len(x_vals)\n",
    "\tn_y = len(y_vals)\n",
    "\t\n",
    "\tvar_1_vals = np.zeros((n_x, n_y))\n",
    "\tvar_2_vals = np.zeros((n_x, n_y))\n",
    "\t\n",
    "\traster = np.zeros((n_x, t_evol))\n",
    "\n",
    "\tfor i, model in enumerate(models):\n",
    "\t\tx_ind = np.where(x_vals == model.mat)\n",
    "\n",
    "\t\tif model.adult_bias == y_vals[5]:\n",
    "\t\t\traster[x_ind, :] = data[i][3][:,-1]\n",
    "\n",
    "\treturn raster"
   ]
  },
  {
   "cell_type": "markdown",
   "metadata": {},
   "source": [
    "raster = bifrucation()"
   ]
  },
  {
   "cell_type": "code",
   "execution_count": null,
   "metadata": {},
   "outputs": [],
   "source": []
  }
 ],
 "metadata": {
  "kernelspec": {
   "display_name": "Python 3",
   "language": "python",
   "name": "python3"
  },
  "language_info": {
   "codemirror_mode": {
    "name": "ipython",
    "version": 3
   },
   "file_extension": ".py",
   "mimetype": "text/x-python",
   "name": "python",
   "nbconvert_exporter": "python",
   "pygments_lexer": "ipython3",
   "version": "3.12.3"
  }
 },
 "nbformat": 4,
 "nbformat_minor": 2
}
