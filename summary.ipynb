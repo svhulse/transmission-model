{
 "cells": [
  {
   "cell_type": "markdown",
   "metadata": {},
   "source": [
    "# Project Summary for the Evolution of Multiple Transmission Modes\n",
    "The purpose of this project is to model the coevolution of host and pathogen when the pathogen has multiple transmission modes.\n",
    "As this project is based on the *silene-microbotryum* system, we base our assumptions on the dynamics of this system, in particular: \n",
    "\n",
    "* Infection is permanent, does not induce mortality, and sterilizes hosts\n",
    "* The aerial-transmission mode is density-dependent, and mostly causes in juvenile infection\n",
    "* The vector-transmission mode is frequency-dependent, and mostly causes adult infection\n",
    "* Juvenile hosts are more susceptible to infection than adult hosts\n",
    "\n",
    "We break this project down into three phases:"
   ]
  },
  {
   "cell_type": "markdown",
   "metadata": {},
   "source": [
    "### 1. Model pathogen evolution with a static host\n",
    "Previous work has analyzed how hosts can evolve age-specific resistance to infection with a static pathogen, but less is known about pathogen evolution when pathogens can evolve to specialize on host life stages. Here, we use age as a proxy for transmission mode, as this is a reasonable assumption in the *silene-microbotryum* system."
   ]
  },
  {
   "cell_type": "markdown",
   "metadata": {},
   "source": [
    "### 2. Incorporate host and pathogen evolution into a coevolutionary model\n",
    "A primary goal of this project is to understand when host and pathogen evolution are synergistic versus antagonistic. Specifically, under what conditions are both host and pathogen fitness maximised by the same strategy and when does coevoltuion result in arms-race dynamics.\n"
   ]
  },
  {
   "cell_type": "markdown",
   "metadata": {},
   "source": [
    "### 3. Test how spatial factors affect host-pathogen coevolution\n",
    "In natural systems, transmission mode likely plays a major role in at the landscape level. While wind transmission can spread infection at a local scale, with infection rates tapering off with distance, polinator transmission can spread infection across a much greater range. As *silene* populations can exhibit patchy distributions, polinator transmission may be the primary mode of spreading infection between metapopulations. In this context, we want to understand how spatial dynamics influence the results we find with simplier models, and how metapopulation-scale factors influence this."
   ]
  },
  {
   "cell_type": "code",
   "execution_count": null,
   "metadata": {},
   "outputs": [],
   "source": []
  }
 ],
 "metadata": {
  "language_info": {
   "name": "python"
  }
 },
 "nbformat": 4,
 "nbformat_minor": 2
}
